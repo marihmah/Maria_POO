{
 "cells": [
  {
   "attachments": {},
   "cell_type": "markdown",
   "id": "fcbe0b0b",
   "metadata": {},
   "source": [
    "# 📘 Projeto de Programação Orientada a Objetos – 2º Bimestre\n",
    "\n",
    "**Nome do Aluno:**    **Maria Beatriz Oliveira de Souza**          \n",
    "\n",
    "**Turma:**  **2A TI**\n",
    "\n",
    "**Tema Escolhido:**   **Sistema gerenciador de serviços diversos**"
   ]
  },
  {
   "cell_type": "markdown",
   "id": "47e697ce",
   "metadata": {},
   "source": [
    "Lembre-se esse projeto deve ser personalizado, todas as classe e metodos devem ter uma referencia ao seu nome, exemplo:\n",
    "\n",
    "class Carro_Fabio:\n",
    "\n",
    "    def __init__(self, tipo, cor, rodas):\n",
    "        self.tipo = tipo\n",
    "        self.cor = cor\n",
    "        self.rodas = rodas\n",
    "        \n",
    "    def alterar_cor_Fabio(self, nova_cor):\n",
    "        self.cor = nova_cor\n",
    "        return self.cor\n",
    "    "
   ]
  },
  {
   "cell_type": "markdown",
   "id": "bf0b9458",
   "metadata": {},
   "source": [
    "## PARTE 1 – Classe Principal e Objetos\n",
    "\n",
    "**Tarefas:**\n",
    "- Definir e criar a classe principal com pelo menos 3 atributos.\n",
    "- Implementar o método construtor (`__init__`).\n",
    "- Criar pelo menos 2 objetos da classe principal.\n",
    "- Implementar um método de exibição de dados.\n",
    "\n",
    "**Código:**"
   ]
  },
  {
   "cell_type": "code",
   "execution_count": null,
   "id": "5721fa89",
   "metadata": {},
   "outputs": [],
   "source": [
    "# Desenvolva aqui o código da Parte 1\n",
    "class Servico_maria:\n",
    "    def __init__(self, nome, descricao, preco):\n",
    "        self.nome = nome\n",
    "        self.descricao = descricao\n",
    "        self.preco = preco\n",
    "    def exibir_dados(self):\n",
    "        print(f'Nome: {self.nome}')\n",
    "        print(f'Descriçao: {self.descricao}')\n",
    "        print(f'Preço: R${self.preco:.2}')\n",
    "\n",
    "servico1 = Servico_maria('Limpeza residencial', 'Limpeza completa de casas e apartamentos', 150.00)\n",
    "servico2 = Servico_maria('Manutenção de PC', 'Formatação, limpeza e instalação de softwares', 200.00) \n",
    "\n"
   ]
  },
  {
   "cell_type": "markdown",
   "id": "f2cf3375",
   "metadata": {},
   "source": [
    "## PARTE 2 – Métodos e Herança\n",
    "\n",
    "**Tarefas:**\n",
    "- Criar pelo menos 2 métodos de ação para a classe principal.\n",
    "- Criar uma subclasse herdando da classe principal.\n",
    "- Adicionar pelo menos 1 novo atributo e 1 novo método exclusivo na subclasse.\n",
    "- Utilizar `super()` no construtor da subclasse.\n",
    "\n",
    "**Código:**"
   ]
  },
  {
   "cell_type": "code",
   "execution_count": null,
   "id": "5f456eb1",
   "metadata": {},
   "outputs": [],
   "source": [
    "# Desenvolva aqui o código da Parte 2\n",
    "class Servico_maria:\n",
    "    def __init__(self, nome, descricao, preco):\n",
    "        self.nome = nome\n",
    "        self.descricao = descricao\n",
    "        self.preco = preco\n",
    "    def exibir_dados(self):\n",
    "        print(f'Nome: {self.nome}')\n",
    "        print(f'Descriçao: {self.descricao}')\n",
    "        print(f'Preço: R${self.preco:.2f}')\n",
    "\n",
    "    def aplicar_desconto(self, percentual):\n",
    "        desconto = (self.preco * percentual) / 100\n",
    "        self.preco -= desconto\n",
    "        print(f\"Desconto de {percentual}% aplicado. Novo preço: R${self.preco: .2f}\")\n",
    "    \n",
    "    def atualizar_preco(self, novo_preco):\n",
    "        self.preco = novo_preco\n",
    "        print(f\"Preço atualizado para: R${self.preco: .2f}\")\n",
    "\n",
    "class ServicoPremium_maria(Servico_maria):\n",
    "  def __init__(self, nome, descricao, preco, taxa_extra):\n",
    "    super().__init__(nome, descricao, preco)\n",
    "    self.taxa_extra = taxa_extra\n",
    "\n",
    "  def aplicar_taxa_extra(self):\n",
    "    self.preco += self.taxa_extra\n",
    "    print(f'Taxa extra aplicada. Novo preço: R${self.preco: .2f}')\n",
    "\n",
    "  def exibir_dados(self):\n",
    "    super().exibir_dados()\n",
    "    print(f'Taxa extra (premium): R${self.taxa_extra: .2f}')\n",
    "  \n",
    "\n",
    "servico1 = Servico_maria('Limpeza residencial', 'Limpeza completa de casas e apartamentos', 150.00)\n",
    "servico2 = Servico_maria('Manutenção de PC', 'Formatação, limpeza e instalação de softwares', 200.00) \n",
    "\n",
    "print(\"Antes de aplicar ações: \")\n",
    "servico1.exibir_dados()\n",
    "servico2.exibir_dados()\n",
    "\n",
    "servico1.aplicar_desconto(10)\n",
    "servico2.atualizar_preco(180.00)\n",
    "\n",
    "print(\"\\nApós as ações:\")\n",
    "servico1.exibir_dados()\n",
    "servico2.exibir_dados()\n",
    "\n",
    "print('\\nServiço Premium:')\n",
    "premium = ServicoPremium_maria('Limpeza pós-obra', 'Limpeza pesada após reforma', 300.00, 50.00)\n",
    "premium.exibir_dados()\n",
    "premium.aplicar_taxa_extra()\n",
    "premium.exibir_dados()\n",
    "\n"
   ]
  },
  {
   "cell_type": "markdown",
   "id": "3e0a77b0",
   "metadata": {},
   "source": [
    "## PARTE 3 – Encapsulamento e Abstração\n",
    "\n",
    "**Tarefas:**\n",
    "- Tornar pelo menos 1 atributo da classe principal privado (`__atributo`).\n",
    "- Criar métodos `get` e `set` para o atributo privado.\n",
    "- Implementar um método que contenha lógica interna (ex: cálculo, verificação).\n",
    "\n",
    "**Código:**"
   ]
  },
  {
   "cell_type": "code",
   "execution_count": null,
   "id": "0bdb445e",
   "metadata": {},
   "outputs": [],
   "source": [
    "# Desenvolva aqui o código da Parte 3"
   ]
  },
  {
   "cell_type": "markdown",
   "id": "fb9df3e9",
   "metadata": {},
   "source": [
    "## PARTE 4 – Polimorfismo e Banco de Dados\n",
    "\n",
    "**Tarefas:**\n",
    "- Implementar polimorfismo: sobrescrever um método na subclasse.\n",
    "- Integrar o sistema com banco de dados (MySQL ou SQLite).\n",
    "- Implementar inserção (INSERT), consulta (SELECT) e exclusão (DELETE) de registros no banco de dados.\n",
    "\n",
    "**Código:**"
   ]
  },
  {
   "cell_type": "code",
   "execution_count": null,
   "id": "56a4c46a",
   "metadata": {},
   "outputs": [],
   "source": [
    "# Desenvolva aqui o código da Parte 4"
   ]
  },
  {
   "cell_type": "markdown",
   "id": "d8bbf974",
   "metadata": {},
   "source": [
    "## PARTE 5 – Projeto Final e Organização\n",
    "\n",
    "**Tarefas:**\n",
    "- Consolidar todas as partes do projeto em um único script organizado.\n",
    "- Comentar o código explicando cada parte.\n",
    "- Testar todas as funcionalidades.\n",
    "\n",
    "**Código:**"
   ]
  },
  {
   "cell_type": "code",
   "execution_count": null,
   "id": "54b3cdd7",
   "metadata": {},
   "outputs": [],
   "source": [
    "# Desenvolva aqui o código da Parte 5"
   ]
  }
 ],
 "metadata": {
  "kernelspec": {
   "display_name": "Python 3",
   "language": "python",
   "name": "python3"
  },
  "language_info": {
   "codemirror_mode": {
    "name": "ipython",
    "version": 3
   },
   "file_extension": ".py",
   "mimetype": "text/x-python",
   "name": "python",
   "nbconvert_exporter": "python",
   "pygments_lexer": "ipython3",
   "version": "3.11.9"
  }
 },
 "nbformat": 4,
 "nbformat_minor": 5
}
